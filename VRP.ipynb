{
  "cells": [
    {
      "cell_type": "markdown",
      "metadata": {
        "id": "AKvfzpLIAF4y"
      },
      "source": [
        "### Generate data"
      ]
    },
    {
      "cell_type": "code",
      "execution_count": 7,
      "metadata": {},
      "outputs": [],
      "source": [
        "result = {}"
      ]
    },
    {
      "cell_type": "code",
      "execution_count": 8,
      "metadata": {},
      "outputs": [],
      "source": [
        "parameters_dict = {\n",
        "    'num_nodes': 4,\n",
        "    'num_graphs': 2,\n",
        "    'products_count': 2,\n",
        "    'num_depots': 1,\n",
        "    'k_vehicles': 3,\n",
        "    'compartment_capacity': 50,\n",
        "    'planning_horizon': 7,\n",
        "    'noise_demand': 0.2,\n",
        "    'batch_size':2,\n",
        "    'seed':6,\n",
        "    'epochs':2,\n",
        "    'max_trips':2,\n",
        "    'eval_epochs':3\n",
        "}"
      ]
    },
    {
      "cell_type": "code",
      "execution_count": 9,
      "metadata": {
        "id": "Zut6YbUX_2or"
      },
      "outputs": [],
      "source": [
        "from PSRP.problem_solvers.gnn.graph_generation_functions import create_wheel_noised\n",
        "\n",
        "dataset_dir='/content/drive/MyDrive/GraphDataset/wheel_10/'\n",
        "generation_function=create_wheel_noised\n",
        "node_dim = parameters_dict[\"products_count\"]*3 + 2"
      ]
    },
    {
      "cell_type": "code",
      "execution_count": 10,
      "metadata": {
        "colab": {
          "base_uri": "https://localhost:8080/"
        },
        "id": "S1JPz93dDa8j",
        "outputId": "f1b3605b-c2f1-4b60-c26a-57fe1250b276"
      },
      "outputs": [
        {
          "name": "stderr",
          "output_type": "stream",
          "text": [
            "c:\\Users\\rkozl\\Desktop\\Sber\\PSRP\\problem_solvers\\gnn\\dataset_utils.py:100: RuntimeWarning: invalid value encountered in divide\n",
            "  min_capacities = min_capacities / max_capacities\n",
            "c:\\Users\\rkozl\\Desktop\\Sber\\PSRP\\problem_solvers\\gnn\\dataset_utils.py:101: RuntimeWarning: invalid value encountered in divide\n",
            "  init_capacities = init_capacities / max_capacities\n",
            "c:\\Users\\rkozl\\Desktop\\Sber\\PSRP\\problem_solvers\\gnn\\dataset_utils.py:102: RuntimeWarning: divide by zero encountered in divide\n",
            "  vehicle_compartments = vehicle_compartments / max_capacities\n",
            "c:\\Users\\rkozl\\Desktop\\Sber\\PSRP\\problem_solvers\\gnn\\dataset_utils.py:103: RuntimeWarning: invalid value encountered in divide\n",
            "  node_demand = np.array(plan_horizon_prods) / max_capacities\n",
            "c:\\Users\\rkozl\\Desktop\\Sber\\PSRP\\problem_solvers\\gnn\\dataset_utils.py:105: RuntimeWarning: divide by zero encountered in divide\n",
            "  load = load / max_capacities\n",
            "c:\\Users\\rkozl\\Desktop\\Sber\\PSRP\\problem_solvers\\gnn\\dataset_utils.py:106: RuntimeWarning: invalid value encountered in divide\n",
            "  max_capacities = max_capacities / max_capacities\n",
            "100%|██████████| 2/2 [00:00<00:00, 2005.40it/s]\n"
          ]
        }
      ],
      "source": [
        "from PSRP.problem_solvers.gnn.dataset_utils import CustomImageDataset\n",
        "from torch.utils.data import DataLoader\n",
        "\n",
        "dataset = CustomImageDataset(dataset_dir=dataset_dir,\n",
        "        generation_function=generation_function,\n",
        "        parameters_dict=parameters_dict)\n",
        "\n",
        "train_dataloader = DataLoader(dataset, batch_size=parameters_dict['batch_size'], shuffle=True)"
      ]
    },
    {
      "cell_type": "code",
      "execution_count": 11,
      "metadata": {},
      "outputs": [],
      "source": [
        "from PSRP.problem_solvers.gnn.RL.agent import IRPAgent\n",
        "\n",
        "agent_irp = IRPAgent(node_dim=node_dim, seed=parameters_dict['seed'])"
      ]
    },
    {
      "cell_type": "code",
      "execution_count": 12,
      "metadata": {},
      "outputs": [
        {
          "name": "stderr",
          "output_type": "stream",
          "text": [
            "  0%|          | 0/2 [00:00<?, ?it/s]\n"
          ]
        },
        {
          "ename": "RuntimeError",
          "evalue": "mat1 and mat2 shapes cannot be multiplied (2x512 and 384x10)",
          "output_type": "error",
          "traceback": [
            "\u001b[1;31m---------------------------------------------------------------------------\u001b[0m",
            "\u001b[1;31mRuntimeError\u001b[0m                              Traceback (most recent call last)",
            "Cell \u001b[1;32mIn[12], line 4\u001b[0m\n\u001b[0;32m      1\u001b[0m \u001b[38;5;28;01mimport\u001b[39;00m \u001b[38;5;21;01mtime\u001b[39;00m\n\u001b[0;32m      2\u001b[0m \u001b[38;5;28;01mfrom\u001b[39;00m \u001b[38;5;21;01mPSRP\u001b[39;00m\u001b[38;5;21;01m.\u001b[39;00m\u001b[38;5;21;01mproblem_solvers\u001b[39;00m\u001b[38;5;21;01m.\u001b[39;00m\u001b[38;5;21;01mgnn\u001b[39;00m\u001b[38;5;21;01m.\u001b[39;00m\u001b[38;5;21;01mRL\u001b[39;00m\u001b[38;5;21;01m.\u001b[39;00m\u001b[38;5;21;01mtrain\u001b[39;00m \u001b[38;5;28;01mimport\u001b[39;00m train\n\u001b[1;32m----> 4\u001b[0m loss_history, dist_history, dry_runs_history, kpi \u001b[38;5;241m=\u001b[39m \u001b[43mtrain\u001b[49m\u001b[43m(\u001b[49m\u001b[43magent_irp\u001b[49m\u001b[43m,\u001b[49m\n\u001b[0;32m      5\u001b[0m \u001b[43m            \u001b[49m\u001b[43mtrain_dataloader\u001b[49m\u001b[43m,\u001b[49m\n\u001b[0;32m      6\u001b[0m \u001b[43m            \u001b[49m\u001b[43mparameters_dict\u001b[49m\u001b[43m,\u001b[49m\n\u001b[0;32m      7\u001b[0m \u001b[43m            \u001b[49m\u001b[43mcheck_point_dir\u001b[49m\u001b[38;5;241;43m=\u001b[39;49m\u001b[38;5;124;43mf\u001b[39;49m\u001b[38;5;124;43m\"\u001b[39;49m\u001b[38;5;124;43m./check_points/my_irp_\u001b[39;49m\u001b[38;5;132;43;01m{\u001b[39;49;00m\u001b[43mparameters_dict\u001b[49m\u001b[43m[\u001b[49m\u001b[38;5;124;43m'\u001b[39;49m\u001b[38;5;124;43mnum_nodes\u001b[39;49m\u001b[38;5;124;43m'\u001b[39;49m\u001b[43m]\u001b[49m\u001b[38;5;132;43;01m}\u001b[39;49;00m\u001b[38;5;124;43m_\u001b[39;49m\u001b[38;5;132;43;01m{\u001b[39;49;00m\u001b[43mparameters_dict\u001b[49m\u001b[43m[\u001b[49m\u001b[38;5;124;43m'\u001b[39;49m\u001b[38;5;124;43mseed\u001b[39;49m\u001b[38;5;124;43m'\u001b[39;49m\u001b[43m]\u001b[49m\u001b[38;5;132;43;01m}\u001b[39;49;00m\u001b[38;5;124;43m/\u001b[39;49m\u001b[38;5;124;43m\"\u001b[39;49m\u001b[43m)\u001b[49m\n",
            "File \u001b[1;32mc:\\Users\\rkozl\\Desktop\\Sber\\PSRP\\problem_solvers\\gnn\\RL\\train.py:32\u001b[0m, in \u001b[0;36mtrain\u001b[1;34m(agent, train_dataset, parameters_dict, check_point_dir)\u001b[0m\n\u001b[0;32m     28\u001b[0m env \u001b[38;5;241m=\u001b[39m IRPEnv_Custom(batch, parameters_dict)\n\u001b[0;32m     30\u001b[0m agent\u001b[38;5;241m.\u001b[39mmodel\u001b[38;5;241m.\u001b[39mtrain()\n\u001b[1;32m---> 32\u001b[0m loss_m, loss_b, log_prob, kpi \u001b[38;5;241m=\u001b[39m \u001b[43magent\u001b[49m\u001b[38;5;241;43m.\u001b[39;49m\u001b[43mstep\u001b[49m\u001b[43m(\u001b[49m\u001b[43menv\u001b[49m\u001b[43m,\u001b[49m\u001b[43m \u001b[49m\u001b[43m(\u001b[49m\u001b[38;5;28;43;01mFalse\u001b[39;49;00m\u001b[43m,\u001b[49m\u001b[43m \u001b[49m\u001b[38;5;28;43;01mTrue\u001b[39;49;00m\u001b[43m)\u001b[49m\u001b[43m)\u001b[49m\n\u001b[0;32m     33\u001b[0m advantage \u001b[38;5;241m=\u001b[39m (loss_m \u001b[38;5;241m-\u001b[39m loss_b) \u001b[38;5;241m*\u001b[39m \u001b[38;5;241m-\u001b[39m\u001b[38;5;241m1\u001b[39m\n\u001b[0;32m     34\u001b[0m loss \u001b[38;5;241m=\u001b[39m (advantage \u001b[38;5;241m*\u001b[39m log_prob)\u001b[38;5;241m.\u001b[39mmean()\n",
            "File \u001b[1;32mc:\\Users\\rkozl\\Desktop\\Sber\\PSRP\\problem_solvers\\gnn\\RL\\agent.py:82\u001b[0m, in \u001b[0;36mIRPAgent.step\u001b[1;34m(self, env, rollouts)\u001b[0m\n\u001b[0;32m     79\u001b[0m env_baseline \u001b[38;5;241m=\u001b[39m deepcopy(env)\n\u001b[0;32m     81\u001b[0m \u001b[38;5;66;03m# Go through graph batch and get loss\u001b[39;00m\n\u001b[1;32m---> 82\u001b[0m loss, log_prob, kpi \u001b[38;5;241m=\u001b[39m \u001b[38;5;28;43mself\u001b[39;49m\u001b[38;5;241;43m.\u001b[39;49m\u001b[43mmodel\u001b[49m\u001b[43m(\u001b[49m\u001b[43menv\u001b[49m\u001b[43m,\u001b[49m\u001b[43m \u001b[49m\u001b[43mrollouts\u001b[49m\u001b[43m[\u001b[49m\u001b[38;5;241;43m0\u001b[39;49m\u001b[43m]\u001b[49m\u001b[43m)\u001b[49m\n\u001b[0;32m     84\u001b[0m \u001b[38;5;28;01mwith\u001b[39;00m torch\u001b[38;5;241m.\u001b[39mno_grad():\n\u001b[0;32m     85\u001b[0m     loss_b, _, _ \u001b[38;5;241m=\u001b[39m \u001b[38;5;28mself\u001b[39m\u001b[38;5;241m.\u001b[39mtarget_model(env_baseline, rollouts[\u001b[38;5;241m0\u001b[39m])\n",
            "File \u001b[1;32mc:\\Users\\rkozl\\Desktop\\Sber\\.venv\\Lib\\site-packages\\torch\\nn\\modules\\module.py:1532\u001b[0m, in \u001b[0;36mModule._wrapped_call_impl\u001b[1;34m(self, *args, **kwargs)\u001b[0m\n\u001b[0;32m   1530\u001b[0m     \u001b[38;5;28;01mreturn\u001b[39;00m \u001b[38;5;28mself\u001b[39m\u001b[38;5;241m.\u001b[39m_compiled_call_impl(\u001b[38;5;241m*\u001b[39margs, \u001b[38;5;241m*\u001b[39m\u001b[38;5;241m*\u001b[39mkwargs)  \u001b[38;5;66;03m# type: ignore[misc]\u001b[39;00m\n\u001b[0;32m   1531\u001b[0m \u001b[38;5;28;01melse\u001b[39;00m:\n\u001b[1;32m-> 1532\u001b[0m     \u001b[38;5;28;01mreturn\u001b[39;00m \u001b[38;5;28;43mself\u001b[39;49m\u001b[38;5;241;43m.\u001b[39;49m\u001b[43m_call_impl\u001b[49m\u001b[43m(\u001b[49m\u001b[38;5;241;43m*\u001b[39;49m\u001b[43margs\u001b[49m\u001b[43m,\u001b[49m\u001b[43m \u001b[49m\u001b[38;5;241;43m*\u001b[39;49m\u001b[38;5;241;43m*\u001b[39;49m\u001b[43mkwargs\u001b[49m\u001b[43m)\u001b[49m\n",
            "File \u001b[1;32mc:\\Users\\rkozl\\Desktop\\Sber\\.venv\\Lib\\site-packages\\torch\\nn\\modules\\module.py:1541\u001b[0m, in \u001b[0;36mModule._call_impl\u001b[1;34m(self, *args, **kwargs)\u001b[0m\n\u001b[0;32m   1536\u001b[0m \u001b[38;5;66;03m# If we don't have any hooks, we want to skip the rest of the logic in\u001b[39;00m\n\u001b[0;32m   1537\u001b[0m \u001b[38;5;66;03m# this function, and just call forward.\u001b[39;00m\n\u001b[0;32m   1538\u001b[0m \u001b[38;5;28;01mif\u001b[39;00m \u001b[38;5;129;01mnot\u001b[39;00m (\u001b[38;5;28mself\u001b[39m\u001b[38;5;241m.\u001b[39m_backward_hooks \u001b[38;5;129;01mor\u001b[39;00m \u001b[38;5;28mself\u001b[39m\u001b[38;5;241m.\u001b[39m_backward_pre_hooks \u001b[38;5;129;01mor\u001b[39;00m \u001b[38;5;28mself\u001b[39m\u001b[38;5;241m.\u001b[39m_forward_hooks \u001b[38;5;129;01mor\u001b[39;00m \u001b[38;5;28mself\u001b[39m\u001b[38;5;241m.\u001b[39m_forward_pre_hooks\n\u001b[0;32m   1539\u001b[0m         \u001b[38;5;129;01mor\u001b[39;00m _global_backward_pre_hooks \u001b[38;5;129;01mor\u001b[39;00m _global_backward_hooks\n\u001b[0;32m   1540\u001b[0m         \u001b[38;5;129;01mor\u001b[39;00m _global_forward_hooks \u001b[38;5;129;01mor\u001b[39;00m _global_forward_pre_hooks):\n\u001b[1;32m-> 1541\u001b[0m     \u001b[38;5;28;01mreturn\u001b[39;00m \u001b[43mforward_call\u001b[49m\u001b[43m(\u001b[49m\u001b[38;5;241;43m*\u001b[39;49m\u001b[43margs\u001b[49m\u001b[43m,\u001b[49m\u001b[43m \u001b[49m\u001b[38;5;241;43m*\u001b[39;49m\u001b[38;5;241;43m*\u001b[39;49m\u001b[43mkwargs\u001b[49m\u001b[43m)\u001b[49m\n\u001b[0;32m   1543\u001b[0m \u001b[38;5;28;01mtry\u001b[39;00m:\n\u001b[0;32m   1544\u001b[0m     result \u001b[38;5;241m=\u001b[39m \u001b[38;5;28;01mNone\u001b[39;00m\n",
            "File \u001b[1;32mc:\\Users\\rkozl\\Desktop\\Sber\\PSRP\\problem_solvers\\gnn\\RL\\model.py:54\u001b[0m, in \u001b[0;36mIRPModel.forward\u001b[1;34m(self, env, rollout)\u001b[0m\n\u001b[0;32m     49\u001b[0m \u001b[38;5;28;01mwhile\u001b[39;00m \u001b[38;5;129;01mnot\u001b[39;00m done:\n\u001b[0;32m     50\u001b[0m     emb \u001b[38;5;241m=\u001b[39m \u001b[38;5;28mself\u001b[39m\u001b[38;5;241m.\u001b[39mencoder(\n\u001b[0;32m     51\u001b[0m       x\u001b[38;5;241m=\u001b[39mlocal_features, depot_mask\u001b[38;5;241m=\u001b[39mdepots\u001b[38;5;241m.\u001b[39mbool()\n\u001b[0;32m     52\u001b[0m     )\n\u001b[1;32m---> 54\u001b[0m     actions, load_percent, log_prob \u001b[38;5;241m=\u001b[39m \u001b[38;5;28;43mself\u001b[39;49m\u001b[38;5;241;43m.\u001b[39;49m\u001b[43mdecoder\u001b[49m\u001b[43m(\u001b[49m\n\u001b[0;32m     55\u001b[0m \u001b[43m        \u001b[49m\u001b[43mnode_embs\u001b[49m\u001b[38;5;241;43m=\u001b[39;49m\u001b[43memb\u001b[49m\u001b[43m,\u001b[49m\n\u001b[0;32m     56\u001b[0m \u001b[43m        \u001b[49m\u001b[43mmask\u001b[49m\u001b[38;5;241;43m=\u001b[39;49m\u001b[43mmask\u001b[49m\u001b[43m,\u001b[49m\n\u001b[0;32m     57\u001b[0m \u001b[43m        \u001b[49m\u001b[43mglobal_features\u001b[49m\u001b[38;5;241;43m=\u001b[39;49m\u001b[43mglobal_features\u001b[49m\u001b[43m,\u001b[49m\n\u001b[0;32m     58\u001b[0m \u001b[43m        \u001b[49m\u001b[43mrollout\u001b[49m\u001b[38;5;241;43m=\u001b[39;49m\u001b[43mrollout\u001b[49m\u001b[43m,\u001b[49m\n\u001b[0;32m     59\u001b[0m \u001b[43m    \u001b[49m\u001b[43m)\u001b[49m\n\u001b[0;32m     61\u001b[0m     loss, kpis, done \u001b[38;5;241m=\u001b[39m env\u001b[38;5;241m.\u001b[39mstep(actions, \u001b[38;5;28;01mNone\u001b[39;00m)\u001b[38;5;66;03m#load_percent.detach().cpu().numpy()\u001b[39;00m\n\u001b[0;32m     63\u001b[0m     acc_log_prob \u001b[38;5;241m+\u001b[39m\u001b[38;5;241m=\u001b[39m log_prob\u001b[38;5;241m.\u001b[39msqueeze()\u001b[38;5;241m.\u001b[39mto(\u001b[38;5;28mself\u001b[39m\u001b[38;5;241m.\u001b[39mdevice)\n",
            "File \u001b[1;32mc:\\Users\\rkozl\\Desktop\\Sber\\.venv\\Lib\\site-packages\\torch\\nn\\modules\\module.py:1532\u001b[0m, in \u001b[0;36mModule._wrapped_call_impl\u001b[1;34m(self, *args, **kwargs)\u001b[0m\n\u001b[0;32m   1530\u001b[0m     \u001b[38;5;28;01mreturn\u001b[39;00m \u001b[38;5;28mself\u001b[39m\u001b[38;5;241m.\u001b[39m_compiled_call_impl(\u001b[38;5;241m*\u001b[39margs, \u001b[38;5;241m*\u001b[39m\u001b[38;5;241m*\u001b[39mkwargs)  \u001b[38;5;66;03m# type: ignore[misc]\u001b[39;00m\n\u001b[0;32m   1531\u001b[0m \u001b[38;5;28;01melse\u001b[39;00m:\n\u001b[1;32m-> 1532\u001b[0m     \u001b[38;5;28;01mreturn\u001b[39;00m \u001b[38;5;28;43mself\u001b[39;49m\u001b[38;5;241;43m.\u001b[39;49m\u001b[43m_call_impl\u001b[49m\u001b[43m(\u001b[49m\u001b[38;5;241;43m*\u001b[39;49m\u001b[43margs\u001b[49m\u001b[43m,\u001b[49m\u001b[43m \u001b[49m\u001b[38;5;241;43m*\u001b[39;49m\u001b[38;5;241;43m*\u001b[39;49m\u001b[43mkwargs\u001b[49m\u001b[43m)\u001b[49m\n",
            "File \u001b[1;32mc:\\Users\\rkozl\\Desktop\\Sber\\.venv\\Lib\\site-packages\\torch\\nn\\modules\\module.py:1541\u001b[0m, in \u001b[0;36mModule._call_impl\u001b[1;34m(self, *args, **kwargs)\u001b[0m\n\u001b[0;32m   1536\u001b[0m \u001b[38;5;66;03m# If we don't have any hooks, we want to skip the rest of the logic in\u001b[39;00m\n\u001b[0;32m   1537\u001b[0m \u001b[38;5;66;03m# this function, and just call forward.\u001b[39;00m\n\u001b[0;32m   1538\u001b[0m \u001b[38;5;28;01mif\u001b[39;00m \u001b[38;5;129;01mnot\u001b[39;00m (\u001b[38;5;28mself\u001b[39m\u001b[38;5;241m.\u001b[39m_backward_hooks \u001b[38;5;129;01mor\u001b[39;00m \u001b[38;5;28mself\u001b[39m\u001b[38;5;241m.\u001b[39m_backward_pre_hooks \u001b[38;5;129;01mor\u001b[39;00m \u001b[38;5;28mself\u001b[39m\u001b[38;5;241m.\u001b[39m_forward_hooks \u001b[38;5;129;01mor\u001b[39;00m \u001b[38;5;28mself\u001b[39m\u001b[38;5;241m.\u001b[39m_forward_pre_hooks\n\u001b[0;32m   1539\u001b[0m         \u001b[38;5;129;01mor\u001b[39;00m _global_backward_pre_hooks \u001b[38;5;129;01mor\u001b[39;00m _global_backward_hooks\n\u001b[0;32m   1540\u001b[0m         \u001b[38;5;129;01mor\u001b[39;00m _global_forward_hooks \u001b[38;5;129;01mor\u001b[39;00m _global_forward_pre_hooks):\n\u001b[1;32m-> 1541\u001b[0m     \u001b[38;5;28;01mreturn\u001b[39;00m \u001b[43mforward_call\u001b[49m\u001b[43m(\u001b[49m\u001b[38;5;241;43m*\u001b[39;49m\u001b[43margs\u001b[49m\u001b[43m,\u001b[49m\u001b[43m \u001b[49m\u001b[38;5;241;43m*\u001b[39;49m\u001b[38;5;241;43m*\u001b[39;49m\u001b[43mkwargs\u001b[49m\u001b[43m)\u001b[49m\n\u001b[0;32m   1543\u001b[0m \u001b[38;5;28;01mtry\u001b[39;00m:\n\u001b[0;32m   1544\u001b[0m     result \u001b[38;5;241m=\u001b[39m \u001b[38;5;28;01mNone\u001b[39;00m\n",
            "File \u001b[1;32mc:\\Users\\rkozl\\Desktop\\Sber\\PSRP\\problem_solvers\\gnn\\RL\\decoder.py:67\u001b[0m, in \u001b[0;36mGraphDecoder.forward\u001b[1;34m(self, node_embs, mask, global_features, C, rollout)\u001b[0m\n\u001b[0;32m     64\u001b[0m k \u001b[38;5;241m=\u001b[39m \u001b[38;5;28mself\u001b[39m\u001b[38;5;241m.\u001b[39m_kp(node_embs)\n\u001b[0;32m     66\u001b[0m flat \u001b[38;5;241m=\u001b[39m torch\u001b[38;5;241m.\u001b[39mflatten(node_embs,start_dim\u001b[38;5;241m=\u001b[39m\u001b[38;5;241m1\u001b[39m)\n\u001b[1;32m---> 67\u001b[0m k_fuel \u001b[38;5;241m=\u001b[39m \u001b[38;5;28;43mself\u001b[39;49m\u001b[38;5;241;43m.\u001b[39;49m\u001b[43m_kp_fuel\u001b[49m\u001b[43m(\u001b[49m\u001b[43mflat\u001b[49m\u001b[43m)\u001b[49m\n\u001b[0;32m     69\u001b[0m \u001b[38;5;66;03m# Create context with first, last node and graph embedding.\u001b[39;00m\n\u001b[0;32m     70\u001b[0m \u001b[38;5;66;03m# Where last is the node from last decoding step.\u001b[39;00m\n\u001b[0;32m     71\u001b[0m \u001b[38;5;28;01mif\u001b[39;00m global_features \u001b[38;5;129;01mis\u001b[39;00m \u001b[38;5;28;01mNone\u001b[39;00m:\n",
            "File \u001b[1;32mc:\\Users\\rkozl\\Desktop\\Sber\\.venv\\Lib\\site-packages\\torch\\nn\\modules\\module.py:1532\u001b[0m, in \u001b[0;36mModule._wrapped_call_impl\u001b[1;34m(self, *args, **kwargs)\u001b[0m\n\u001b[0;32m   1530\u001b[0m     \u001b[38;5;28;01mreturn\u001b[39;00m \u001b[38;5;28mself\u001b[39m\u001b[38;5;241m.\u001b[39m_compiled_call_impl(\u001b[38;5;241m*\u001b[39margs, \u001b[38;5;241m*\u001b[39m\u001b[38;5;241m*\u001b[39mkwargs)  \u001b[38;5;66;03m# type: ignore[misc]\u001b[39;00m\n\u001b[0;32m   1531\u001b[0m \u001b[38;5;28;01melse\u001b[39;00m:\n\u001b[1;32m-> 1532\u001b[0m     \u001b[38;5;28;01mreturn\u001b[39;00m \u001b[38;5;28;43mself\u001b[39;49m\u001b[38;5;241;43m.\u001b[39;49m\u001b[43m_call_impl\u001b[49m\u001b[43m(\u001b[49m\u001b[38;5;241;43m*\u001b[39;49m\u001b[43margs\u001b[49m\u001b[43m,\u001b[49m\u001b[43m \u001b[49m\u001b[38;5;241;43m*\u001b[39;49m\u001b[38;5;241;43m*\u001b[39;49m\u001b[43mkwargs\u001b[49m\u001b[43m)\u001b[49m\n",
            "File \u001b[1;32mc:\\Users\\rkozl\\Desktop\\Sber\\.venv\\Lib\\site-packages\\torch\\nn\\modules\\module.py:1541\u001b[0m, in \u001b[0;36mModule._call_impl\u001b[1;34m(self, *args, **kwargs)\u001b[0m\n\u001b[0;32m   1536\u001b[0m \u001b[38;5;66;03m# If we don't have any hooks, we want to skip the rest of the logic in\u001b[39;00m\n\u001b[0;32m   1537\u001b[0m \u001b[38;5;66;03m# this function, and just call forward.\u001b[39;00m\n\u001b[0;32m   1538\u001b[0m \u001b[38;5;28;01mif\u001b[39;00m \u001b[38;5;129;01mnot\u001b[39;00m (\u001b[38;5;28mself\u001b[39m\u001b[38;5;241m.\u001b[39m_backward_hooks \u001b[38;5;129;01mor\u001b[39;00m \u001b[38;5;28mself\u001b[39m\u001b[38;5;241m.\u001b[39m_backward_pre_hooks \u001b[38;5;129;01mor\u001b[39;00m \u001b[38;5;28mself\u001b[39m\u001b[38;5;241m.\u001b[39m_forward_hooks \u001b[38;5;129;01mor\u001b[39;00m \u001b[38;5;28mself\u001b[39m\u001b[38;5;241m.\u001b[39m_forward_pre_hooks\n\u001b[0;32m   1539\u001b[0m         \u001b[38;5;129;01mor\u001b[39;00m _global_backward_pre_hooks \u001b[38;5;129;01mor\u001b[39;00m _global_backward_hooks\n\u001b[0;32m   1540\u001b[0m         \u001b[38;5;129;01mor\u001b[39;00m _global_forward_hooks \u001b[38;5;129;01mor\u001b[39;00m _global_forward_pre_hooks):\n\u001b[1;32m-> 1541\u001b[0m     \u001b[38;5;28;01mreturn\u001b[39;00m \u001b[43mforward_call\u001b[49m\u001b[43m(\u001b[49m\u001b[38;5;241;43m*\u001b[39;49m\u001b[43margs\u001b[49m\u001b[43m,\u001b[49m\u001b[43m \u001b[49m\u001b[38;5;241;43m*\u001b[39;49m\u001b[38;5;241;43m*\u001b[39;49m\u001b[43mkwargs\u001b[49m\u001b[43m)\u001b[49m\n\u001b[0;32m   1543\u001b[0m \u001b[38;5;28;01mtry\u001b[39;00m:\n\u001b[0;32m   1544\u001b[0m     result \u001b[38;5;241m=\u001b[39m \u001b[38;5;28;01mNone\u001b[39;00m\n",
            "File \u001b[1;32mc:\\Users\\rkozl\\Desktop\\Sber\\.venv\\Lib\\site-packages\\torch\\nn\\modules\\linear.py:116\u001b[0m, in \u001b[0;36mLinear.forward\u001b[1;34m(self, input)\u001b[0m\n\u001b[0;32m    115\u001b[0m \u001b[38;5;28;01mdef\u001b[39;00m \u001b[38;5;21mforward\u001b[39m(\u001b[38;5;28mself\u001b[39m, \u001b[38;5;28minput\u001b[39m: Tensor) \u001b[38;5;241m-\u001b[39m\u001b[38;5;241m>\u001b[39m Tensor:\n\u001b[1;32m--> 116\u001b[0m     \u001b[38;5;28;01mreturn\u001b[39;00m \u001b[43mF\u001b[49m\u001b[38;5;241;43m.\u001b[39;49m\u001b[43mlinear\u001b[49m\u001b[43m(\u001b[49m\u001b[38;5;28;43minput\u001b[39;49m\u001b[43m,\u001b[49m\u001b[43m \u001b[49m\u001b[38;5;28;43mself\u001b[39;49m\u001b[38;5;241;43m.\u001b[39;49m\u001b[43mweight\u001b[49m\u001b[43m,\u001b[49m\u001b[43m \u001b[49m\u001b[38;5;28;43mself\u001b[39;49m\u001b[38;5;241;43m.\u001b[39;49m\u001b[43mbias\u001b[49m\u001b[43m)\u001b[49m\n",
            "\u001b[1;31mRuntimeError\u001b[0m: mat1 and mat2 shapes cannot be multiplied (2x512 and 384x10)"
          ]
        }
      ],
      "source": [
        "import time\n",
        "from PSRP.problem_solvers.gnn.RL.train import train\n",
        "\n",
        "loss_history, dist_history, dry_runs_history, kpi = train(agent_irp,\n",
        "            train_dataloader,\n",
        "            parameters_dict,\n",
        "            check_point_dir=f\"./check_points/my_irp_{parameters_dict['num_nodes']}_{parameters_dict['seed']}/\")"
      ]
    },
    {
      "cell_type": "code",
      "execution_count": 24,
      "metadata": {},
      "outputs": [
        {
          "ename": "RuntimeError",
          "evalue": "mat1 and mat2 shapes cannot be multiplied (2x128 and 2x10)",
          "output_type": "error",
          "traceback": [
            "\u001b[1;31m---------------------------------------------------------------------------\u001b[0m",
            "\u001b[1;31mRuntimeError\u001b[0m                              Traceback (most recent call last)",
            "Cell \u001b[1;32mIn[24], line 6\u001b[0m\n\u001b[0;32m      2\u001b[0m \u001b[38;5;28minput\u001b[39m \u001b[38;5;241m=\u001b[39m torch\u001b[38;5;241m.\u001b[39mrandn(\u001b[38;5;241m2\u001b[39m, \u001b[38;5;241m10\u001b[39m)\n\u001b[0;32m      4\u001b[0m x \u001b[38;5;241m=\u001b[39m torch\u001b[38;5;241m.\u001b[39mrandn(\u001b[38;5;241m2\u001b[39m,\u001b[38;5;241m1\u001b[39m,\u001b[38;5;241m128\u001b[39m)\u001b[38;5;241m.\u001b[39msqueeze()\n\u001b[1;32m----> 6\u001b[0m \u001b[43mtorch\u001b[49m\u001b[38;5;241;43m.\u001b[39;49m\u001b[43mmatmul\u001b[49m\u001b[43m(\u001b[49m\u001b[43mx\u001b[49m\u001b[43m,\u001b[49m\u001b[43m \u001b[49m\u001b[38;5;28;43minput\u001b[39;49m\u001b[43m)\u001b[49m\n",
            "\u001b[1;31mRuntimeError\u001b[0m: mat1 and mat2 shapes cannot be multiplied (2x128 and 2x10)"
          ]
        }
      ],
      "source": [
        "import torch\n",
        "input = torch.randn(2, 3)\n",
        "fuel = torch.randn(2, 3)\n"
      ]
    },
    {
      "cell_type": "code",
      "execution_count": 15,
      "metadata": {},
      "outputs": [
        {
          "name": "stdout",
          "output_type": "stream",
          "text": [
            "tensor([[[ 0.4697, -0.9524,  0.5440,  1.0146, -0.4064],\n",
            "         [-0.9753, -1.2450, -0.1645, -0.6379,  0.8748],\n",
            "         [-1.0515, -0.0661, -0.1162, -0.3291,  1.4998]]],\n",
            "       grad_fn=<ViewBackward0>)\n"
          ]
        }
      ],
      "source": [
        "from torch.nn import  Linear\n",
        "import torch\n",
        "\n",
        "m = Linear(10, 5)\n",
        "\n",
        "output = m(input)\n",
        "print(output)"
      ]
    },
    {
      "cell_type": "code",
      "execution_count": 21,
      "metadata": {},
      "outputs": [
        {
          "ename": "RuntimeError",
          "evalue": "mat1 and mat2 shapes cannot be multiplied (1x30 and 10x5)",
          "output_type": "error",
          "traceback": [
            "\u001b[1;31m---------------------------------------------------------------------------\u001b[0m",
            "\u001b[1;31mRuntimeError\u001b[0m                              Traceback (most recent call last)",
            "Cell \u001b[1;32mIn[21], line 2\u001b[0m\n\u001b[0;32m      1\u001b[0m flat \u001b[38;5;241m=\u001b[39m torch\u001b[38;5;241m.\u001b[39mflatten(\u001b[38;5;28minput\u001b[39m, start_dim\u001b[38;5;241m=\u001b[39m\u001b[38;5;241m1\u001b[39m)\n\u001b[1;32m----> 2\u001b[0m \u001b[43mm\u001b[49m\u001b[43m(\u001b[49m\u001b[43mflat\u001b[49m\u001b[43m)\u001b[49m\n",
            "File \u001b[1;32mc:\\Users\\rkozl\\Desktop\\Sber\\.venv\\Lib\\site-packages\\torch\\nn\\modules\\module.py:1532\u001b[0m, in \u001b[0;36mModule._wrapped_call_impl\u001b[1;34m(self, *args, **kwargs)\u001b[0m\n\u001b[0;32m   1530\u001b[0m     \u001b[38;5;28;01mreturn\u001b[39;00m \u001b[38;5;28mself\u001b[39m\u001b[38;5;241m.\u001b[39m_compiled_call_impl(\u001b[38;5;241m*\u001b[39margs, \u001b[38;5;241m*\u001b[39m\u001b[38;5;241m*\u001b[39mkwargs)  \u001b[38;5;66;03m# type: ignore[misc]\u001b[39;00m\n\u001b[0;32m   1531\u001b[0m \u001b[38;5;28;01melse\u001b[39;00m:\n\u001b[1;32m-> 1532\u001b[0m     \u001b[38;5;28;01mreturn\u001b[39;00m \u001b[38;5;28;43mself\u001b[39;49m\u001b[38;5;241;43m.\u001b[39;49m\u001b[43m_call_impl\u001b[49m\u001b[43m(\u001b[49m\u001b[38;5;241;43m*\u001b[39;49m\u001b[43margs\u001b[49m\u001b[43m,\u001b[49m\u001b[43m \u001b[49m\u001b[38;5;241;43m*\u001b[39;49m\u001b[38;5;241;43m*\u001b[39;49m\u001b[43mkwargs\u001b[49m\u001b[43m)\u001b[49m\n",
            "File \u001b[1;32mc:\\Users\\rkozl\\Desktop\\Sber\\.venv\\Lib\\site-packages\\torch\\nn\\modules\\module.py:1541\u001b[0m, in \u001b[0;36mModule._call_impl\u001b[1;34m(self, *args, **kwargs)\u001b[0m\n\u001b[0;32m   1536\u001b[0m \u001b[38;5;66;03m# If we don't have any hooks, we want to skip the rest of the logic in\u001b[39;00m\n\u001b[0;32m   1537\u001b[0m \u001b[38;5;66;03m# this function, and just call forward.\u001b[39;00m\n\u001b[0;32m   1538\u001b[0m \u001b[38;5;28;01mif\u001b[39;00m \u001b[38;5;129;01mnot\u001b[39;00m (\u001b[38;5;28mself\u001b[39m\u001b[38;5;241m.\u001b[39m_backward_hooks \u001b[38;5;129;01mor\u001b[39;00m \u001b[38;5;28mself\u001b[39m\u001b[38;5;241m.\u001b[39m_backward_pre_hooks \u001b[38;5;129;01mor\u001b[39;00m \u001b[38;5;28mself\u001b[39m\u001b[38;5;241m.\u001b[39m_forward_hooks \u001b[38;5;129;01mor\u001b[39;00m \u001b[38;5;28mself\u001b[39m\u001b[38;5;241m.\u001b[39m_forward_pre_hooks\n\u001b[0;32m   1539\u001b[0m         \u001b[38;5;129;01mor\u001b[39;00m _global_backward_pre_hooks \u001b[38;5;129;01mor\u001b[39;00m _global_backward_hooks\n\u001b[0;32m   1540\u001b[0m         \u001b[38;5;129;01mor\u001b[39;00m _global_forward_hooks \u001b[38;5;129;01mor\u001b[39;00m _global_forward_pre_hooks):\n\u001b[1;32m-> 1541\u001b[0m     \u001b[38;5;28;01mreturn\u001b[39;00m \u001b[43mforward_call\u001b[49m\u001b[43m(\u001b[49m\u001b[38;5;241;43m*\u001b[39;49m\u001b[43margs\u001b[49m\u001b[43m,\u001b[49m\u001b[43m \u001b[49m\u001b[38;5;241;43m*\u001b[39;49m\u001b[38;5;241;43m*\u001b[39;49m\u001b[43mkwargs\u001b[49m\u001b[43m)\u001b[49m\n\u001b[0;32m   1543\u001b[0m \u001b[38;5;28;01mtry\u001b[39;00m:\n\u001b[0;32m   1544\u001b[0m     result \u001b[38;5;241m=\u001b[39m \u001b[38;5;28;01mNone\u001b[39;00m\n",
            "File \u001b[1;32mc:\\Users\\rkozl\\Desktop\\Sber\\.venv\\Lib\\site-packages\\torch\\nn\\modules\\linear.py:116\u001b[0m, in \u001b[0;36mLinear.forward\u001b[1;34m(self, input)\u001b[0m\n\u001b[0;32m    115\u001b[0m \u001b[38;5;28;01mdef\u001b[39;00m \u001b[38;5;21mforward\u001b[39m(\u001b[38;5;28mself\u001b[39m, \u001b[38;5;28minput\u001b[39m: Tensor) \u001b[38;5;241m-\u001b[39m\u001b[38;5;241m>\u001b[39m Tensor:\n\u001b[1;32m--> 116\u001b[0m     \u001b[38;5;28;01mreturn\u001b[39;00m \u001b[43mF\u001b[49m\u001b[38;5;241;43m.\u001b[39;49m\u001b[43mlinear\u001b[49m\u001b[43m(\u001b[49m\u001b[38;5;28;43minput\u001b[39;49m\u001b[43m,\u001b[49m\u001b[43m \u001b[49m\u001b[38;5;28;43mself\u001b[39;49m\u001b[38;5;241;43m.\u001b[39;49m\u001b[43mweight\u001b[49m\u001b[43m,\u001b[49m\u001b[43m \u001b[49m\u001b[38;5;28;43mself\u001b[39;49m\u001b[38;5;241;43m.\u001b[39;49m\u001b[43mbias\u001b[49m\u001b[43m)\u001b[49m\n",
            "\u001b[1;31mRuntimeError\u001b[0m: mat1 and mat2 shapes cannot be multiplied (1x30 and 10x5)"
          ]
        }
      ],
      "source": [
        "flat = torch.flatten(input, start_dim=1)\n",
        "m(flat)"
      ]
    },
    {
      "cell_type": "code",
      "execution_count": null,
      "metadata": {},
      "outputs": [],
      "source": [
        "import matplotlib.pyplot as plt\n",
        "\n",
        "linspace = range(len(dist_history))\n",
        "\n",
        "figure, axis = plt.subplots(1, 3, figsize=(15,6))\n",
        "\n",
        "axis[0].plot(linspace, dist_history)\n",
        "axis[0].set_title(\"Расстояние\")\n",
        "axis[0].grid()\n",
        "axis[0].set_xlabel(\"Episodes\")\n",
        "axis[0].set_ylabel(\"Value\")\n",
        "\n",
        "\n",
        "axis[1].plot(linspace, dry_runs_history)\n",
        "axis[1].set_title(\"Пересыхания\")\n",
        "axis[1].grid()\n",
        "axis[1].set_xlabel(\"Episodes\")\n",
        "axis[1].set_ylabel(\"Value\")\n",
        "\n",
        "axis[2].plot(linspace, loss_history)\n",
        "axis[2].set_title(\"(loss_m - loss_b) * -1 * log_prob\")\n",
        "axis[2].grid()\n",
        "axis[2].set_xlabel(\"Episodes\")\n",
        "axis[2].set_ylabel(\"Value\")\n",
        "\n",
        "plt.show()"
      ]
    },
    {
      "cell_type": "markdown",
      "metadata": {
        "id": "j8CjUaDf1vlj"
      },
      "source": [
        "### Pred on CPSAT"
      ]
    },
    {
      "cell_type": "code",
      "execution_count": null,
      "metadata": {
        "id": "tE5RnWoxXjeW"
      },
      "outputs": [],
      "source": [
        "# num_nodes = 10\n",
        "# synth_data = create_wheel_noised(num_nodes)\n",
        "# data_nn, data_cpsat = get_graph_dict(synth_data,\n",
        "#                                      num_nodes,\n",
        "#                                      products_count,\n",
        "#                                      compartment_capacity,\n",
        "#                                      7,\n",
        "#                                      k_vehicles=k_vehicles,\n",
        "#                                      noise_demand=0.0,\n",
        "#                                      draw=True)\n",
        "\n",
        "data_nn = dataset[0]\n",
        "data_cpsat = dataset.model_for_cpsat"
      ]
    },
    {
      "cell_type": "code",
      "execution_count": null,
      "metadata": {
        "id": "sE6BFej-_shS"
      },
      "outputs": [],
      "source": [
        "from datetime import datetime\n",
        "from pprint import pprint\n",
        "import time\n",
        "\n",
        "from PSRP.problem_solvers.mppsrp.cpsat.TaskBuilder_MPPSRP_FullMILP_CPSAT import TaskBuilder_MPPSRP_FullMILP_CPSAT\n",
        "from PSRP.problem_solvers.mppsrp.cpsat.TaskSolver_MPPSRP_CPSAT import TaskSolver_MPPSRP_CPSAT\n",
        "# from PSRP.problem_solvers.mppsrp.data_generators.DataBuilder_MPPSRP_FullMILP_CPSAT import DataBuilder_MPPSRP_FullMILP_CPSAT\n",
        "\n",
        "from PSRP.paths_config import interim_dir\n",
        "\n",
        "task_builder = TaskBuilder_MPPSRP_FullMILP_CPSAT( max_trips_per_day=parameters_dict['max_trips'], verbose=True )\n",
        "task = task_builder.build_task( data_cpsat )\n",
        "\n",
        "print(\"Solving start time: {}\".format( datetime.now() ))\n",
        "task_solver = TaskSolver_MPPSRP_CPSAT( cache_dir=interim_dir,\n",
        "                                       cache_all_feasible_solutions=False,\n",
        "                                       solution_prefix='dataset',\n",
        "                                       time_limit_milliseconds=60_000)\n",
        "start_time = time.time()\n",
        "solution = task_solver.solve( task )\n",
        "delta_time = time.time() - start_time\n",
        "print('kpi')\n",
        "kpi_dict = solution.get_kpis()\n",
        "pprint( kpi_dict )\n",
        "\n",
        "print()\n",
        "routes_schedule = solution.get_routes_schedule()\n",
        "pprint( routes_schedule )\n",
        "\n",
        "print(\"done\")"
      ]
    },
    {
      "cell_type": "markdown",
      "metadata": {
        "id": "sE6BFej-_shS"
      },
      "source": [
        "### Pred on model"
      ]
    },
    {
      "cell_type": "code",
      "execution_count": null,
      "metadata": {
        "id": "ugxVJGUsFvI8"
      },
      "outputs": [],
      "source": [
        "import numpy as np\n",
        "\n",
        "\n",
        "item = dataset[0]\n",
        "new_item = []\n",
        "for i in range(len(item)):\n",
        "  new_item.append(np.expand_dims(item[i], axis=0))"
      ]
    },
    {
      "cell_type": "code",
      "execution_count": null,
      "metadata": {},
      "outputs": [],
      "source": [
        "import time\n",
        "from copy import deepcopy\n",
        "\n",
        "from PSRP.problem_solvers.gnn.RL.envipoment import IRPEnv_Custom\n",
        "\n",
        "temp_data = deepcopy(new_item)\n",
        "\n",
        "env_irp = IRPEnv_Custom(temp_data,\n",
        "                        parameters_dict)"
      ]
    },
    {
      "cell_type": "code",
      "execution_count": null,
      "metadata": {
        "colab": {
          "base_uri": "https://localhost:8080/"
        },
        "id": "0IsBhctg_lDy",
        "outputId": "461b52cc-ddb7-40fd-d3d8-5f2d7c84478d"
      },
      "outputs": [],
      "source": [
        "start_time = time.time()\n",
        "loss_a, kpi = agent_irp.evaluate(env_irp)\n",
        "delta_time_model = time.time() - start_time\n",
        "\n",
        "print(loss_a)"
      ]
    },
    {
      "cell_type": "code",
      "execution_count": null,
      "metadata": {
        "colab": {
          "base_uri": "https://localhost:8080/"
        },
        "id": "0IsBhctg_lDy",
        "outputId": "461b52cc-ddb7-40fd-d3d8-5f2d7c84478d"
      },
      "outputs": [],
      "source": [
        "for e in zip(kpi['load_percents'], [e.item() for e in kpi['actions_list']]):\n",
        "    print(e)"
      ]
    },
    {
      "cell_type": "code",
      "execution_count": null,
      "metadata": {},
      "outputs": [],
      "source": [
        "actions = [e.item() for e in kpi['actions_list']]\n",
        "m = data_cpsat['distance_matrix']\n",
        "t = data_cpsat['travel_time_matrix']\n",
        "\n",
        "time_delta = 18*60*60 - 9*60*60\n",
        "\n",
        "sum_dist = 0\n",
        "sum_time = 0\n",
        "global_sum_time = 0\n",
        "exceeded_time = 0\n",
        "actions.insert(0,0)\n",
        "print(actions)\n",
        "for i in range(len(actions)-1):\n",
        "  start = actions[i]\n",
        "  end = actions[i+1]\n",
        "  dist = m[start][end]\n",
        "  edge_time = t[start][end]\n",
        "  sum_time += edge_time\n",
        "  global_sum_time += edge_time\n",
        "  sum_dist += dist\n",
        "\n",
        "  if end == 0 and sum_time > time_delta:\n",
        "    # print(start, end)\n",
        "    exceeded_time += 1\n",
        "    sum_time = 0\n",
        "  print(f'{start} -> {end} : dist = {dist} time = {edge_time}')\n",
        "\n",
        "print()\n",
        "print(f'sum_dist={sum_dist}, sum_time={global_sum_time}, exceeded_time = {exceeded_time}')"
      ]
    },
    {
      "cell_type": "code",
      "execution_count": null,
      "metadata": {
        "id": "P4_Cj-VxCrOI"
      },
      "outputs": [],
      "source": [
        "kpi['dry_runs']"
      ]
    },
    {
      "cell_type": "code",
      "execution_count": null,
      "metadata": {},
      "outputs": [],
      "source": [
        "\n",
        "from PSRP.problem_solvers.gnn.utils import divide_to_paths_nn\n",
        "\n",
        "\n",
        "nn_paths = divide_to_paths_nn(actions)\n",
        "lengths = []\n",
        "for e in nn_paths:\n",
        "  if not np.all(np.array(e) == 0):\n",
        "    lengths.append(len(e))\n",
        "np.array(lengths).mean()\n",
        "\n",
        "kpi['mean_stops'] = np.array(lengths).mean()\n",
        "\n",
        "actions_daily = kpi['actions_daily']\n",
        "for key in actions_daily:\n",
        "  actions_daily[key] =[e.item() for e in actions_daily[key]]"
      ]
    },
    {
      "cell_type": "code",
      "execution_count": null,
      "metadata": {
        "id": "L2b2AF5FBag0"
      },
      "outputs": [],
      "source": [
        "import pandas as pd\n",
        "\n",
        "\n",
        "result['wheel_10_3'] = {\n",
        "        'sum_dist_cpsat':kpi_dict['total_travel_distance'],\n",
        "        'sum_dist_model':sum_dist,\n",
        "        'error': (kpi_dict['total_travel_distance'] - sum_dist) / kpi_dict['total_travel_distance'],\n",
        "        'time_cpsat':delta_time,\n",
        "        'time_model':delta_time_model,\n",
        "        'dry_runs_model':sum(list(kpi['dry_runs'].values())),\n",
        "        'dry_runs_cpsat':kpi_dict['dry_runs'],\n",
        "    }\n",
        "pd.DataFrame.from_dict(result, orient='index',).round(3)"
      ]
    },
    {
      "cell_type": "code",
      "execution_count": null,
      "metadata": {},
      "outputs": [],
      "source": [
        "from PSRP.problem_solvers.gnn.utils import draw_paths\n"
      ]
    },
    {
      "cell_type": "code",
      "execution_count": null,
      "metadata": {},
      "outputs": [],
      "source": [
        "from matplotlib import pyplot as plt\n",
        "import networkx as nx\n",
        "\n",
        "import matplotlib.colors as mcolors\n",
        "\n",
        "def draw_paths(data_nn, routes):\n",
        "  G = nx.Graph()\n",
        "  edges = []\n",
        "  for r in routes:\n",
        "      route_edges = [(r[n],r[n+1]) for n in range(len(r)-1)]\n",
        "      G.add_nodes_from(r)\n",
        "      G.add_edges_from(route_edges)\n",
        "      edges.append(route_edges)\n",
        "\n",
        "  print(\"Graph has %d nodes with %d edges\" %(G.number_of_nodes(),\n",
        "  G.number_of_edges()))\n",
        "\n",
        "  pos = data_nn[0]\n",
        "  nx.draw_networkx_nodes(G,pos=pos)\n",
        "  nx.draw_networkx_labels(G,pos=pos)\n",
        "  colors = list(mcolors.TABLEAU_COLORS.keys())\n",
        "  for ctr, edgelist in enumerate(edges):\n",
        "      nx.draw_networkx_edges(G,pos=pos,edgelist=edgelist,edge_color = colors[ctr % len(colors)], width=5)\n",
        "  plt.savefig('this.png')\n",
        "  plt.show()\n",
        "  \n",
        "  \n",
        "def divide_to_paths_nn(actions):\n",
        "\n",
        "  particular_value = 0\n",
        "  result = []\n",
        "  temp_list = []\n",
        "  for i in actions:\n",
        "      if i == particular_value:\n",
        "          temp_list.append(i)\n",
        "          result.append(temp_list)\n",
        "          temp_list.insert(0,0)\n",
        "          temp_list = []\n",
        "      else:\n",
        "          temp_list.append(i)\n",
        "  result.append(temp_list)\n",
        "  result.pop(0)\n",
        "  result.pop(-1)\n",
        "  return result\n",
        "\n",
        "def divide_to_path_cpsat(routes_schedule):\n",
        "  result_paths = []\n",
        "  for car in routes_schedule[0]:\n",
        "    for e in car:\n",
        "      result_paths.append(e[0])\n",
        "  return result_paths"
      ]
    },
    {
      "cell_type": "code",
      "execution_count": null,
      "metadata": {
        "id": "lUXaj3t9A1UU"
      },
      "outputs": [],
      "source": [
        "\n",
        "nn_paths = divide_to_paths_nn(actions)\n",
        "print(nn_paths)\n",
        "draw_paths(data_nn, nn_paths)"
      ]
    },
    {
      "cell_type": "code",
      "execution_count": null,
      "metadata": {
        "id": "hreVF6YgICLh"
      },
      "outputs": [],
      "source": [
        "\n",
        "nn_paths = divide_to_paths_nn(actions_daily[1.0])\n",
        "print(len(nn_paths))\n",
        "draw_paths(data_nn, nn_paths)"
      ]
    },
    {
      "cell_type": "code",
      "execution_count": null,
      "metadata": {
        "id": "qtAwHOwlIEiW"
      },
      "outputs": [],
      "source": [
        "nn_paths = divide_to_paths_nn(actions_daily[3.0])\n",
        "print(len(nn_paths))\n",
        "draw_paths(data_nn, nn_paths)"
      ]
    },
    {
      "cell_type": "code",
      "execution_count": null,
      "metadata": {
        "id": "80ZpUbWxIHDJ"
      },
      "outputs": [],
      "source": [
        "nn_paths = divide_to_paths_nn(actions_daily[4.0])\n",
        "print(len(nn_paths))\n",
        "draw_paths(data_nn, nn_paths)"
      ]
    },
    {
      "cell_type": "code",
      "execution_count": null,
      "metadata": {
        "id": "ZeB0KKv4GFnW"
      },
      "outputs": [],
      "source": [
        "\n",
        "\n",
        "nn_paths = divide_to_paths_nn(actions_daily[5.0])\n",
        "print(len(nn_paths))\n",
        "draw_paths(data_nn, nn_paths)"
      ]
    },
    {
      "cell_type": "code",
      "execution_count": null,
      "metadata": {
        "id": "Fl3ITJalGIEW"
      },
      "outputs": [],
      "source": [
        "nn_paths = divide_to_paths_nn(actions_daily[6.0])\n",
        "print(len(nn_paths))\n",
        "draw_paths(data_nn, nn_paths)"
      ]
    },
    {
      "cell_type": "code",
      "execution_count": null,
      "metadata": {
        "id": "XCD88jg5KinG"
      },
      "outputs": [],
      "source": [
        "actions_daily"
      ]
    },
    {
      "cell_type": "code",
      "execution_count": null,
      "metadata": {
        "id": "4YRnk6ryGKSv"
      },
      "outputs": [],
      "source": [
        "nn_paths = divide_to_paths_nn(actions_daily[7.0])\n",
        "print(len(nn_paths))\n",
        "draw_paths(data_nn, nn_paths)"
      ]
    },
    {
      "cell_type": "code",
      "execution_count": null,
      "metadata": {
        "id": "_PS4EzqqCGO8"
      },
      "outputs": [],
      "source": [
        "from PSRP.problem_solvers.gnn.utils import divide_to_path_cpsat\n",
        "\n",
        "\n",
        "cpsat_path = divide_to_path_cpsat(routes_schedule)\n",
        "draw_paths(data_nn, cpsat_path)"
      ]
    },
    {
      "cell_type": "code",
      "execution_count": null,
      "metadata": {
        "id": "EJ0T9VOAdR2b"
      },
      "outputs": [],
      "source": []
    }
  ],
  "metadata": {
    "accelerator": "GPU",
    "colab": {
      "collapsed_sections": [
        "CBqdCBZ_qkgN",
        "JTq_Z8cCo29U",
        "n5jcEAKlo4AW",
        "JOR_NBlxpEWk",
        "USK6Yy_mpJL4",
        "if5i_uVLp7-N",
        "Ov8iC4KvpVlm",
        "6iNHU4XRpakf",
        "jFFXzuJepm5G",
        "B4skpAYipv5h",
        "EVutIRFOqRQU",
        "Iz5U8Qqn6DhQ",
        "c5QSpYJ3_zfI",
        "i2CU2v01_1g9"
      ],
      "gpuType": "T4",
      "provenance": [],
      "toc_visible": true
    },
    "kaggle": {
      "accelerator": "gpu",
      "dataSources": [],
      "dockerImageVersionId": 30733,
      "isGpuEnabled": true,
      "isInternetEnabled": true,
      "language": "python",
      "sourceType": "notebook"
    },
    "kernelspec": {
      "display_name": "Python 3",
      "language": "python",
      "name": "python3"
    },
    "language_info": {
      "codemirror_mode": {
        "name": "ipython",
        "version": 3
      },
      "file_extension": ".py",
      "mimetype": "text/x-python",
      "name": "python",
      "nbconvert_exporter": "python",
      "pygments_lexer": "ipython3",
      "version": "3.11.0"
    }
  },
  "nbformat": 4,
  "nbformat_minor": 0
}
