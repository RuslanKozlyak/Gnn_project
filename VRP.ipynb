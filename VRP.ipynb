{
  "cells": [
    {
      "cell_type": "markdown",
      "metadata": {
        "id": "GGx1-cRi8dUf"
      },
      "source": [
        "# Experiments"
      ]
    },
    {
      "cell_type": "code",
      "execution_count": 9,
      "metadata": {
        "id": "aPWVh5IuEykU"
      },
      "outputs": [],
      "source": [
        "result = {}"
      ]
    },
    {
      "cell_type": "markdown",
      "metadata": {
        "id": "AKvfzpLIAF4y"
      },
      "source": [
        "### Generate data"
      ]
    },
    {
      "cell_type": "code",
      "execution_count": 10,
      "metadata": {
        "id": "Iqy0lFVUlqfO"
      },
      "outputs": [],
      "source": [
        "parameters_dict = {\n",
        "    'num_nodes': 4,\n",
        "    'num_graphs': 2,\n",
        "    'products_count': 2,\n",
        "    'num_depots': 1,\n",
        "    'k_vehicles': 10,\n",
        "    'compartment_capacity': 50,\n",
        "    'planning_horizon': 7,\n",
        "    'noise_demand': 0.2,\n",
        "    'batch_size':2,\n",
        "    'seed':6,\n",
        "    'epochs':1,\n",
        "    'max_trips':2,\n",
        "    'eval_epochs':3\n",
        "}"
      ]
    },
    {
      "cell_type": "code",
      "execution_count": 11,
      "metadata": {},
      "outputs": [],
      "source": [
        "from PSRP.problem_solvers.gnn.graph_generation_functions import create_wheel_noised\n",
        "\n",
        "\n",
        "dataset_dir='/content/drive/MyDrive/GraphDataset/wheel_10/'\n",
        "generation_function=create_wheel_noised\n",
        "node_dim = parameters_dict[\"products_count\"]*3 + 2\n",
        "\n",
        "synth_data = generation_function(parameters_dict['num_nodes'])"
      ]
    },
    {
      "cell_type": "code",
      "execution_count": 12,
      "metadata": {},
      "outputs": [],
      "source": [
        "from PSRP.data_generators.DataBuilder_MPPSRP_Simple import DataBuilder_MPPSRP_Simple\n",
        "\n",
        "data_builder = DataBuilder_MPPSRP_Simple(synth_data[\"weight_matrix\"],\n",
        "                                        distance_multiplier=1, travel_time_multiplier=60*60,\n",
        "                                        planning_horizon=parameters_dict['planning_horizon'],\n",
        "                                        safety_level=0.05, max_level=0.95,\n",
        "                                        initial_inventory_level=0.5, tank_capacity=100,\n",
        "                                        depot_service_time = 0*60, station_service_time=0*60,\n",
        "                                        demand=10, products_count=parameters_dict['products_count'],\n",
        "                                        k_vehicles=parameters_dict[\"k_vehicles\"],\n",
        "                                        compartments=[parameters_dict[\"products_count\"] * [parameters_dict[\"compartment_capacity\"]]],\n",
        "                                        mean_vehicle_speed=60, vehicle_time_windows=[[9*60*60, 18*60*60]],\n",
        "                                        noise_initial_inventory=0.0, noise_tank_capacity=0.1,\n",
        "                                        noise_compartments=0.0, noise_demand=0.0,\n",
        "                                        noise_vehicle_time_windows=0.0,\n",
        "                                        noise_restrictions = 0.5,\n",
        "                                        random_seed=45)\n",
        "\n",
        "graph_data = data_builder.build_data_model()"
      ]
    },
    {
      "cell_type": "code",
      "execution_count": 13,
      "metadata": {},
      "outputs": [],
      "source": [
        "from PSRP.problem_solvers.gnn.graph_generation_functions import create_wheel_noised\n",
        "\n",
        "\n",
        "dataset_dir='/content/drive/MyDrive/GraphDataset/wheel_10/'\n",
        "generation_function=create_wheel_noised\n",
        "node_dim = data_builder.products_count * 3 + 2"
      ]
    },
    {
      "cell_type": "code",
      "execution_count": 14,
      "metadata": {
        "colab": {
          "base_uri": "https://localhost:8080/"
        },
        "id": "S1JPz93dDa8j",
        "outputId": "f1b3605b-c2f1-4b60-c26a-57fe1250b276"
      },
      "outputs": [
        {
          "name": "stderr",
          "output_type": "stream",
          "text": [
            "c:\\Users\\rkozl\\Desktop\\Sber\\PSRP\\problem_solvers\\gnn\\dataset_utils.py:78: RuntimeWarning: invalid value encountered in divide\n",
            "  min_capacities = min_capacities / max_capacities\n",
            "c:\\Users\\rkozl\\Desktop\\Sber\\PSRP\\problem_solvers\\gnn\\dataset_utils.py:79: RuntimeWarning: invalid value encountered in divide\n",
            "  init_capacities = init_capacities / max_capacities\n",
            "c:\\Users\\rkozl\\Desktop\\Sber\\PSRP\\problem_solvers\\gnn\\dataset_utils.py:80: RuntimeWarning: divide by zero encountered in divide\n",
            "  vehicle_compartments = vehicle_compartments / max_capacities\n",
            "c:\\Users\\rkozl\\Desktop\\Sber\\PSRP\\problem_solvers\\gnn\\dataset_utils.py:81: RuntimeWarning: invalid value encountered in divide\n",
            "  node_demand = np.array(plan_horizon_prods) / max_capacities\n",
            "c:\\Users\\rkozl\\Desktop\\Sber\\PSRP\\problem_solvers\\gnn\\dataset_utils.py:84: RuntimeWarning: divide by zero encountered in divide\n",
            "  load = load / max_capacities\n",
            "c:\\Users\\rkozl\\Desktop\\Sber\\PSRP\\problem_solvers\\gnn\\dataset_utils.py:85: RuntimeWarning: invalid value encountered in divide\n",
            "  max_capacities = max_capacities / max_capacities\n",
            "100%|██████████| 2/2 [00:00<00:00, 978.83it/s]\n"
          ]
        }
      ],
      "source": [
        "from PSRP.problem_solvers.gnn.dataset_utils import GraphDataset\n",
        "from torch.utils.data import DataLoader\n",
        "\n",
        "dataset = GraphDataset(dataset_dir=dataset_dir,\n",
        "        graph_data=graph_data,\n",
        "        synth_data=synth_data,\n",
        "        num_graphs=2,\n",
        "        parameters_dict=parameters_dict)\n",
        "\n",
        "train_dataloader = DataLoader(dataset, batch_size=parameters_dict['batch_size'], shuffle=True)"
      ]
    },
    {
      "cell_type": "code",
      "execution_count": 15,
      "metadata": {
        "id": "2RyxJucaFF0b"
      },
      "outputs": [],
      "source": [
        "from PSRP.problem_solvers.gnn.RL.agent import IRPAgent\n",
        "\n",
        "agent_irp = IRPAgent(node_dim=node_dim, seed=parameters_dict['seed'])"
      ]
    },
    {
      "cell_type": "code",
      "execution_count": 16,
      "metadata": {
        "colab": {
          "base_uri": "https://localhost:8080/"
        },
        "id": "p7zLZr4D_Thj",
        "outputId": "6397a96d-78cc-4c83-86f5-24e80738b83c"
      },
      "outputs": [
        {
          "name": "stderr",
          "output_type": "stream",
          "text": [
            "100%|██████████| 1/1 [00:17<00:00, 17.14s/it]\n"
          ]
        }
      ],
      "source": [
        "import time\n",
        "from PSRP.problem_solvers.gnn.RL.train import train\n",
        "\n",
        "loss_history, dist_history, dry_runs_history, kpi = train(agent_irp,\n",
        "            train_dataloader,\n",
        "            parameters_dict,\n",
        "            check_point_dir=f\"./check_points/my_irp_{parameters_dict['num_nodes']}_{parameters_dict['seed']}/\")"
      ]
    },
    {
      "cell_type": "code",
      "execution_count": null,
      "metadata": {
        "id": "j8CjUaDf1vlj"
      },
      "outputs": [
        {
          "data": {
            "image/png": "[encoded data removed]",
            "text/plain": [
              "<Figure size 1500x600 with 3 Axes>"
            ]
          },
          "metadata": {},
          "output_type": "display_data"
        }
      ],
      "source": [
        "import matplotlib.pyplot as plt\n",
        "\n",
        "linspace = range(len(dist_history))\n",
        "\n",
        "figure, axis = plt.subplots(1, 3, figsize=(15,6))\n",
        "\n",
        "axis[0].plot(linspace, dist_history)\n",
        "axis[0].set_title(\"Расстояние\")\n",
        "axis[0].grid()\n",
        "axis[0].set_xlabel(\"Episodes\")\n",
        "axis[0].set_ylabel(\"Value\")\n",
        "\n",
        "\n",
        "axis[1].plot(linspace, dry_runs_history)\n",
        "axis[1].set_title(\"Пересыхания\")\n",
        "axis[1].grid()\n",
        "axis[1].set_xlabel(\"Episodes\")\n",
        "axis[1].set_ylabel(\"Value\")\n",
        "\n",
        "axis[2].plot(linspace, loss_history)\n",
        "axis[2].set_title(\"(loss_m - loss_b) * -1 * log_prob\")\n",
        "axis[2].grid()\n",
        "axis[2].set_xlabel(\"Episodes\")\n",
        "axis[2].set_ylabel(\"Value\")\n",
        "\n",
        "plt.show()"
      ]
    },
    {
      "cell_type": "markdown",
      "metadata": {
        "id": "lDdcpinsAwTb"
      },
      "source": [
        "### Pred on CPSAT"
      ]
    },
    {
      "cell_type": "code",
      "execution_count": null,
      "metadata": {
        "id": "tE5RnWoxXjeW"
      },
      "outputs": [],
      "source": [
        "# num_nodes = 10\n",
        "# synth_data = create_wheel_noised(num_nodes)\n",
        "# data_nn, data_cpsat = get_graph_dict(synth_data,\n",
        "#                                      num_nodes,\n",
        "#                                      products_count,\n",
        "#                                      compartment_capacity,\n",
        "#                                      7,\n",
        "#                                      k_vehicles=k_vehicles,\n",
        "#                                      noise_demand=0.0,\n",
        "#                                      draw=True)\n",
        "\n",
        "data_nn = dataset[0]\n",
        "data_cpsat = graph_data"
      ]
    },
    {
      "cell_type": "code",
      "execution_count": null,
      "metadata": {},
      "outputs": [],
      "source": [
        "import torch.utils.data\n",
        "\n",
        "positions,  weight_matrixes, daily_demands,\\\n",
        "        depots, remaining_time,\\\n",
        "        restriction_matrix, service_times,\\\n",
        "        min_capacities, max_capacities,\\\n",
        "        init_capacities, load = next(iter(train_dataloader))\n"
      ]
    },
    {
      "cell_type": "code",
      "execution_count": null,
      "metadata": {},
      "outputs": [
        {
          "data": {
            "text/plain": [
              "tensor([[1., 1., 1., 1., 1., 1., 1., 1., 1., 1.],\n",
              "        [1., 1., 1., 1., 1., 1., 1., 1., 1., 1.],\n",
              "        [1., 1., 1., 1., 1., 1., 1., 1., 1., 1.],\n",
              "        [1., 1., 1., 1., 1., 1., 1., 1., 1., 1.],\n",
              "        [1., 1., 1., 1., 1., 1., 1., 1., 1., 1.],\n",
              "        [1., 1., 1., 1., 1., 1., 1., 1., 1., 1.],\n",
              "        [1., 1., 1., 1., 1., 1., 1., 1., 1., 1.],\n",
              "        [1., 1., 1., 1., 1., 1., 1., 1., 1., 1.],\n",
              "        [1., 1., 1., 1., 1., 1., 1., 1., 1., 1.],\n",
              "        [1., 1., 1., 1., 1., 1., 1., 1., 1., 1.]], dtype=torch.float64)"
            ]
          },
          "execution_count": 14,
          "metadata": {},
          "output_type": "execute_result"
        }
      ],
      "source": [
        "import numpy as np\n",
        "vehicles = np.ones((10)) \n",
        "remaining_time[(vehicles - 1) % 10]\n",
        "     "
      ]
    },
    {
      "cell_type": "code",
      "execution_count": 24,
      "metadata": {
        "id": "sE6BFej-_shS"
      },
      "outputs": [
        {
          "name": "stdout",
          "output_type": "stream",
          "text": [
            "Variables count:\n",
            "x: 2240\n",
            "y: 140\n",
            "z: 420\n",
            "w: 560\n",
            "u: 70\n",
            "q: 2240\n",
            "S: 560\n",
            "I: 48\n",
            "Total: 6278\n",
            "Solving start time: 2024-07-01 12:49:40.781661\n",
            "Status: INFEASIBLE\n",
            "kpi\n"
          ]
        },
        {
          "ename": "AttributeError",
          "evalue": "'NoneType' object has no attribute 'get_kpis'",
          "output_type": "error",
          "traceback": [
            "\u001b[1;31m---------------------------------------------------------------------------\u001b[0m",
            "\u001b[1;31mAttributeError\u001b[0m                            Traceback (most recent call last)",
            "Cell \u001b[1;32mIn[24], line 23\u001b[0m\n\u001b[0;32m     21\u001b[0m delta_time \u001b[38;5;241m=\u001b[39m time\u001b[38;5;241m.\u001b[39mtime() \u001b[38;5;241m-\u001b[39m start_time\n\u001b[0;32m     22\u001b[0m \u001b[38;5;28mprint\u001b[39m(\u001b[38;5;124m'\u001b[39m\u001b[38;5;124mkpi\u001b[39m\u001b[38;5;124m'\u001b[39m)\n\u001b[1;32m---> 23\u001b[0m kpi_dict \u001b[38;5;241m=\u001b[39m \u001b[43msolution\u001b[49m\u001b[38;5;241;43m.\u001b[39;49m\u001b[43mget_kpis\u001b[49m()\n\u001b[0;32m     24\u001b[0m pprint( kpi_dict )\n\u001b[0;32m     26\u001b[0m \u001b[38;5;28mprint\u001b[39m()\n",
            "\u001b[1;31mAttributeError\u001b[0m: 'NoneType' object has no attribute 'get_kpis'"
          ]
        }
      ],
      "source": [
        "from datetime import datetime\n",
        "from pprint import pprint\n",
        "import time\n",
        "\n",
        "from PSRP.problem_solvers.mppsrp.cpsat.TaskBuilder_MPPSRP_FullMILP_CPSAT import TaskBuilder_MPPSRP_FullMILP_CPSAT\n",
        "from PSRP.problem_solvers.mppsrp.cpsat.TaskSolver_MPPSRP_CPSAT import TaskSolver_MPPSRP_CPSAT\n",
        "# from PSRP.problem_solvers.mppsrp.data_generators.DataBuilder_MPPSRP_FullMILP_CPSAT import DataBuilder_MPPSRP_FullMILP_CPSAT\n",
        "\n",
        "from PSRP.paths_config import interim_dir\n",
        "\n",
        "task_builder = TaskBuilder_MPPSRP_FullMILP_CPSAT( max_trips_per_day=parameters_dict['max_trips'], verbose=True )\n",
        "task = task_builder.build_task( data_cpsat )\n",
        "\n",
        "print(\"Solving start time: {}\".format( datetime.now() ))\n",
        "task_solver = TaskSolver_MPPSRP_CPSAT( cache_dir=interim_dir,\n",
        "                                       cache_all_feasible_solutions=False,\n",
        "                                       solution_prefix='dataset',\n",
        "                                       time_limit_milliseconds=60_000)\n",
        "start_time = time.time()\n",
        "solution = task_solver.solve( task )\n",
        "delta_time = time.time() - start_time\n",
        "print('kpi')\n",
        "kpi_dict = solution.get_kpis()\n",
        "pprint( kpi_dict )\n",
        "\n",
        "print()\n",
        "routes_schedule = solution.get_routes_schedule()\n",
        "pprint( routes_schedule )\n",
        "\n",
        "print(\"done\")"
      ]
    },
    {
      "cell_type": "markdown",
      "metadata": {
        "id": "ugxVJGUsFvI8"
      },
      "source": [
        "### Pred on model"
      ]
    },
    {
      "cell_type": "code",
      "execution_count": 11,
      "metadata": {
        "id": "ugxVJGUsFvI8"
      },
      "outputs": [],
      "source": [
        "import numpy as np\n",
        "\n",
        "\n",
        "item = dataset[0]\n",
        "new_item = []\n",
        "for i in range(len(item)):\n",
        "  new_item.append(np.expand_dims(item[i], axis=0))"
      ]
    },
    {
      "cell_type": "code",
      "execution_count": 12,
      "metadata": {},
      "outputs": [],
      "source": [
        "import time\n",
        "from copy import deepcopy\n",
        "\n",
        "from PSRP.problem_solvers.gnn.RL.envipoment import IRPEnv_Custom\n",
        "\n",
        "temp_data = deepcopy(new_item)\n",
        "\n",
        "env_irp = IRPEnv_Custom(temp_data,\n",
        "                        parameters_dict)"
      ]
    },
    {
      "cell_type": "code",
      "execution_count": 13,
      "metadata": {
        "colab": {
          "base_uri": "https://localhost:8080/"
        },
        "id": "0IsBhctg_lDy",
        "outputId": "461b52cc-ddb7-40fd-d3d8-5f2d7c84478d"
      },
      "outputs": [
        {
          "name": "stdout",
          "output_type": "stream",
          "text": [
            "tensor([-65.0296], device='cuda:0')\n"
          ]
        }
      ],
      "source": [
        "start_time = time.time()\n",
        "loss_a, kpi = agent_irp.evaluate(env_irp)\n",
        "delta_time_model = time.time() - start_time\n",
        "\n",
        "print(loss_a)"
      ]
    },
    {
      "cell_type": "code",
      "execution_count": 14,
      "metadata": {},
      "outputs": [
        {
          "name": "stdout",
          "output_type": "stream",
          "text": [
            "(array([[[0.49402314, 0.50336474]]], dtype=float32), 2)\n",
            "(array([[[0.50592893, 0.49599987]]], dtype=float32), 0)\n",
            "(array([[[0.5063076 , 0.49467653]]], dtype=float32), 0)\n",
            "(array([[[0.5062745 , 0.49465683]]], dtype=float32), 0)\n",
            "(array([[[0.5062745 , 0.49465683]]], dtype=float32), 0)\n",
            "(array([[[0.501313 , 0.5127658]]], dtype=float32), 2)\n",
            "(array([[[0.5060394 , 0.49632493]]], dtype=float32), 0)\n",
            "(array([[[0.5063203, 0.494723 ]]], dtype=float32), 0)\n",
            "(array([[[0.50631297, 0.4947185 ]]], dtype=float32), 0)\n",
            "(array([[[0.50631297, 0.4947185 ]]], dtype=float32), 0)\n",
            "(array([[[0.5013648 , 0.51281494]]], dtype=float32), 2)\n",
            "(array([[[0.5060755 , 0.49639124]]], dtype=float32), 0)\n",
            "(array([[[0.5063589 , 0.49478483]]], dtype=float32), 0)\n",
            "(array([[[0.5063516 , 0.49478036]]], dtype=float32), 0)\n",
            "(array([[[0.5063516 , 0.49478036]]], dtype=float32), 0)\n",
            "(array([[[0.5014175 , 0.51286435]]], dtype=float32), 2)\n",
            "(array([[[0.50611097, 0.4964577 ]]], dtype=float32), 0)\n",
            "(array([[[0.5063983 , 0.49484706]]], dtype=float32), 0)\n",
            "(array([[[0.50639105, 0.4948426 ]]], dtype=float32), 0)\n",
            "(array([[[0.50639105, 0.4948426 ]]], dtype=float32), 0)\n",
            "(array([[[0.5014703, 0.5129154]]], dtype=float32), 2)\n",
            "(array([[[0.5061455, 0.4965244]]], dtype=float32), 0)\n",
            "(array([[[0.5064379 , 0.49491003]]], dtype=float32), 0)\n",
            "(array([[[0.5064306 , 0.49490553]]], dtype=float32), 0)\n",
            "(array([[[0.5064306 , 0.49490553]]], dtype=float32), 0)\n",
            "(array([[[0.5015236 , 0.51296645]]], dtype=float32), 2)\n",
            "(array([[[0.5061799, 0.496591 ]]], dtype=float32), 0)\n",
            "(array([[[0.5064774 , 0.49497285]]], dtype=float32), 0)\n",
            "(array([[[0.50647014, 0.4949683 ]]], dtype=float32), 0)\n",
            "(array([[[0.50647014, 0.4949683 ]]], dtype=float32), 0)\n",
            "(array([[[0.5015231, 0.5129631]]], dtype=float32), 2)\n",
            "(array([[[0.5061799, 0.496591 ]]], dtype=float32), 0)\n",
            "(array([[[0.5064774 , 0.49497285]]], dtype=float32), 0)\n",
            "(array([[[0.50647014, 0.4949683 ]]], dtype=float32), 0)\n",
            "(array([[[0.50647014, 0.4949683 ]]], dtype=float32), 0)\n"
          ]
        }
      ],
      "source": [
        "for e in zip(kpi['load_percents'], [e.item() for e in kpi['actions_list']]):\n",
        "    print(e)"
      ]
    },
    {
      "cell_type": "code",
      "execution_count": 15,
      "metadata": {
        "id": "P4_Cj-VxCrOI"
      },
      "outputs": [
        {
          "name": "stdout",
          "output_type": "stream",
          "text": [
            "[0, 2, 0, 0, 0, 0, 2, 0, 0, 0, 0, 2, 0, 0, 0, 0, 2, 0, 0, 0, 0, 2, 0, 0, 0, 0, 2, 0, 0, 0, 0, 2, 0, 0, 0, 0]\n",
            "0 -> 2 : dist = 194 time = 11640\n",
            "2 -> 0 : dist = 194 time = 11640\n",
            "0 -> 0 : dist = 0 time = 0\n",
            "0 -> 0 : dist = 0 time = 0\n",
            "0 -> 0 : dist = 0 time = 0\n",
            "0 -> 2 : dist = 194 time = 11640\n",
            "2 -> 0 : dist = 194 time = 11640\n",
            "0 -> 0 : dist = 0 time = 0\n",
            "0 -> 0 : dist = 0 time = 0\n",
            "0 -> 0 : dist = 0 time = 0\n",
            "0 -> 2 : dist = 194 time = 11640\n",
            "2 -> 0 : dist = 194 time = 11640\n",
            "0 -> 0 : dist = 0 time = 0\n",
            "0 -> 0 : dist = 0 time = 0\n",
            "0 -> 0 : dist = 0 time = 0\n",
            "0 -> 2 : dist = 194 time = 11640\n",
            "2 -> 0 : dist = 194 time = 11640\n",
            "0 -> 0 : dist = 0 time = 0\n",
            "0 -> 0 : dist = 0 time = 0\n",
            "0 -> 0 : dist = 0 time = 0\n",
            "0 -> 2 : dist = 194 time = 11640\n",
            "2 -> 0 : dist = 194 time = 11640\n",
            "0 -> 0 : dist = 0 time = 0\n",
            "0 -> 0 : dist = 0 time = 0\n",
            "0 -> 0 : dist = 0 time = 0\n",
            "0 -> 2 : dist = 194 time = 11640\n",
            "2 -> 0 : dist = 194 time = 11640\n",
            "0 -> 0 : dist = 0 time = 0\n",
            "0 -> 0 : dist = 0 time = 0\n",
            "0 -> 0 : dist = 0 time = 0\n",
            "0 -> 2 : dist = 194 time = 11640\n",
            "2 -> 0 : dist = 194 time = 11640\n",
            "0 -> 0 : dist = 0 time = 0\n",
            "0 -> 0 : dist = 0 time = 0\n",
            "0 -> 0 : dist = 0 time = 0\n",
            "\n",
            "sum_dist=2716, sum_time=162960, exceeded_time = 3\n"
          ]
        }
      ],
      "source": [
        "actions = [e.item() for e in kpi['actions_list']]\n",
        "m = data_cpsat['distance_matrix']\n",
        "t = data_cpsat['travel_time_matrix']\n",
        "\n",
        "time_delta = 18*60*60 - 9*60*60\n",
        "\n",
        "sum_dist = 0\n",
        "sum_time = 0\n",
        "global_sum_time = 0\n",
        "exceeded_time = 0\n",
        "actions.insert(0,0)\n",
        "print(actions)\n",
        "for i in range(len(actions)-1):\n",
        "  start = actions[i]\n",
        "  end = actions[i+1]\n",
        "  dist = m[start][end]\n",
        "  edge_time = t[start][end]\n",
        "  sum_time += edge_time\n",
        "  global_sum_time += edge_time\n",
        "  sum_dist += dist\n",
        "\n",
        "  if end == 0 and sum_time > time_delta:\n",
        "    # print(start, end)\n",
        "    exceeded_time += 1\n",
        "    sum_time = 0\n",
        "  print(f'{start} -> {end} : dist = {dist} time = {edge_time}')\n",
        "\n",
        "print()\n",
        "print(f'sum_dist={sum_dist}, sum_time={global_sum_time}, exceeded_time = {exceeded_time}')"
      ]
    },
    {
      "cell_type": "code",
      "execution_count": 16,
      "metadata": {},
      "outputs": [
        {
          "data": {
            "text/plain": [
              "defaultdict(int, {1: 0, 2: 0, 3: 0, 4: 0, 5: 2, 6: 2, 7: 2})"
            ]
          },
          "execution_count": 16,
          "metadata": {},
          "output_type": "execute_result"
        }
      ],
      "source": [
        "kpi['dry_runs']"
      ]
    },
    {
      "cell_type": "code",
      "execution_count": null,
      "metadata": {
        "id": "HLdAp4WHr_yj"
      },
      "outputs": [],
      "source": [
        "\n",
        "from PSRP.problem_solvers.gnn.utils import divide_to_paths_nn\n",
        "\n",
        "\n",
        "nn_paths = divide_to_paths_nn(actions)\n",
        "lengths = []\n",
        "for e in nn_paths:\n",
        "  if not np.all(np.array(e) == 0):\n",
        "    lengths.append(len(e))\n",
        "np.array(lengths).mean()\n",
        "\n",
        "kpi['mean_stops'] = np.array(lengths).mean()\n",
        "\n",
        "actions_daily = kpi['actions_daily']\n",
        "for key in actions_daily:\n",
        "  actions_daily[key] =[e.item() for e in actions_daily[key]]"
      ]
    },
    {
      "cell_type": "code",
      "execution_count": null,
      "metadata": {
        "id": "L2b2AF5FBag0"
      },
      "outputs": [],
      "source": [
        "import pandas as pd\n",
        "\n",
        "\n",
        "result['wheel_10_3'] = {\n",
        "        'sum_dist_cpsat':kpi_dict['total_travel_distance'],\n",
        "        'sum_dist_model':sum_dist,\n",
        "        'error': (kpi_dict['total_travel_distance'] - sum_dist) / kpi_dict['total_travel_distance'],\n",
        "        'time_cpsat':delta_time,\n",
        "        'time_model':delta_time_model,\n",
        "        'dry_runs_model':sum(list(kpi['dry_runs'].values())),\n",
        "        'dry_runs_cpsat':kpi_dict['dry_runs'],\n",
        "    }\n",
        "pd.DataFrame.from_dict(result, orient='index',).round(3)"
      ]
    },
    {
      "cell_type": "code",
      "execution_count": null,
      "metadata": {},
      "outputs": [],
      "source": [
        "from PSRP.problem_solvers.gnn.utils import draw_paths\n"
      ]
    },
    {
      "cell_type": "code",
      "execution_count": null,
      "metadata": {},
      "outputs": [],
      "source": [
        "from matplotlib import pyplot as plt\n",
        "import networkx as nx\n",
        "\n",
        "import matplotlib.colors as mcolors\n",
        "\n",
        "def draw_paths(data_nn, routes):\n",
        "  G = nx.Graph()\n",
        "  edges = []\n",
        "  for r in routes:\n",
        "      route_edges = [(r[n],r[n+1]) for n in range(len(r)-1)]\n",
        "      G.add_nodes_from(r)\n",
        "      G.add_edges_from(route_edges)\n",
        "      edges.append(route_edges)\n",
        "\n",
        "  print(\"Graph has %d nodes with %d edges\" %(G.number_of_nodes(),\n",
        "  G.number_of_edges()))\n",
        "\n",
        "  pos = data_nn[0]\n",
        "  nx.draw_networkx_nodes(G,pos=pos)\n",
        "  nx.draw_networkx_labels(G,pos=pos)\n",
        "  colors = list(mcolors.TABLEAU_COLORS.keys())\n",
        "  for ctr, edgelist in enumerate(edges):\n",
        "      nx.draw_networkx_edges(G,pos=pos,edgelist=edgelist,edge_color = colors[ctr % len(colors)], width=5)\n",
        "  plt.savefig('this.png')\n",
        "  plt.show()\n",
        "  \n",
        "  \n",
        "def divide_to_paths_nn(actions):\n",
        "\n",
        "  particular_value = 0\n",
        "  result = []\n",
        "  temp_list = []\n",
        "  for i in actions:\n",
        "      if i == particular_value:\n",
        "          temp_list.append(i)\n",
        "          result.append(temp_list)\n",
        "          temp_list.insert(0,0)\n",
        "          temp_list = []\n",
        "      else:\n",
        "          temp_list.append(i)\n",
        "  result.append(temp_list)\n",
        "  result.pop(0)\n",
        "  result.pop(-1)\n",
        "  return result\n",
        "\n",
        "def divide_to_path_cpsat(routes_schedule):\n",
        "  result_paths = []\n",
        "  for car in routes_schedule[0]:\n",
        "    for e in car:\n",
        "      result_paths.append(e[0])\n",
        "  return result_paths"
      ]
    },
    {
      "cell_type": "code",
      "execution_count": null,
      "metadata": {
        "id": "lUXaj3t9A1UU"
      },
      "outputs": [],
      "source": [
        "\n",
        "nn_paths = divide_to_paths_nn(actions)\n",
        "print(nn_paths)\n",
        "draw_paths(data_nn, nn_paths)"
      ]
    },
    {
      "cell_type": "code",
      "execution_count": null,
      "metadata": {
        "id": "hreVF6YgICLh"
      },
      "outputs": [],
      "source": [
        "\n",
        "nn_paths = divide_to_paths_nn(actions_daily[1.0])\n",
        "print(len(nn_paths))\n",
        "draw_paths(data_nn, nn_paths)"
      ]
    },
    {
      "cell_type": "code",
      "execution_count": null,
      "metadata": {
        "id": "qtAwHOwlIEiW"
      },
      "outputs": [],
      "source": [
        "nn_paths = divide_to_paths_nn(actions_daily[3.0])\n",
        "print(len(nn_paths))\n",
        "draw_paths(data_nn, nn_paths)"
      ]
    },
    {
      "cell_type": "code",
      "execution_count": null,
      "metadata": {
        "id": "80ZpUbWxIHDJ"
      },
      "outputs": [],
      "source": [
        "nn_paths = divide_to_paths_nn(actions_daily[4.0])\n",
        "print(len(nn_paths))\n",
        "draw_paths(data_nn, nn_paths)"
      ]
    },
    {
      "cell_type": "code",
      "execution_count": null,
      "metadata": {
        "id": "ZeB0KKv4GFnW"
      },
      "outputs": [],
      "source": [
        "\n",
        "\n",
        "nn_paths = divide_to_paths_nn(actions_daily[5.0])\n",
        "print(len(nn_paths))\n",
        "draw_paths(data_nn, nn_paths)"
      ]
    },
    {
      "cell_type": "code",
      "execution_count": null,
      "metadata": {
        "id": "Fl3ITJalGIEW"
      },
      "outputs": [],
      "source": [
        "nn_paths = divide_to_paths_nn(actions_daily[6.0])\n",
        "print(len(nn_paths))\n",
        "draw_paths(data_nn, nn_paths)"
      ]
    },
    {
      "cell_type": "code",
      "execution_count": null,
      "metadata": {
        "id": "XCD88jg5KinG"
      },
      "outputs": [],
      "source": [
        "actions_daily"
      ]
    },
    {
      "cell_type": "code",
      "execution_count": null,
      "metadata": {
        "id": "4YRnk6ryGKSv"
      },
      "outputs": [],
      "source": [
        "nn_paths = divide_to_paths_nn(actions_daily[7.0])\n",
        "print(len(nn_paths))\n",
        "draw_paths(data_nn, nn_paths)"
      ]
    },
    {
      "cell_type": "code",
      "execution_count": null,
      "metadata": {
        "id": "_PS4EzqqCGO8"
      },
      "outputs": [],
      "source": [
        "from PSRP.problem_solvers.gnn.utils import divide_to_path_cpsat\n",
        "\n",
        "\n",
        "cpsat_path = divide_to_path_cpsat(routes_schedule)\n",
        "draw_paths(data_nn, cpsat_path)"
      ]
    },
    {
      "cell_type": "code",
      "execution_count": null,
      "metadata": {
        "id": "EJ0T9VOAdR2b"
      },
      "outputs": [],
      "source": []
    }
  ],
  "metadata": {
    "accelerator": "GPU",
    "colab": {
      "collapsed_sections": [
        "CBqdCBZ_qkgN",
        "JTq_Z8cCo29U",
        "n5jcEAKlo4AW",
        "JOR_NBlxpEWk",
        "USK6Yy_mpJL4",
        "if5i_uVLp7-N",
        "Ov8iC4KvpVlm",
        "6iNHU4XRpakf",
        "jFFXzuJepm5G",
        "B4skpAYipv5h",
        "EVutIRFOqRQU",
        "Iz5U8Qqn6DhQ",
        "c5QSpYJ3_zfI",
        "i2CU2v01_1g9"
      ],
      "gpuType": "T4",
      "provenance": [],
      "toc_visible": true
    },
    "kaggle": {
      "accelerator": "gpu",
      "dataSources": [],
      "dockerImageVersionId": 30733,
      "isGpuEnabled": true,
      "isInternetEnabled": true,
      "language": "python",
      "sourceType": "notebook"
    },
    "kernelspec": {
      "display_name": "Python 3",
      "language": "python",
      "name": "python3"
    },
    "language_info": {
      "codemirror_mode": {
        "name": "ipython",
        "version": 3
      },
      "file_extension": ".py",
      "mimetype": "text/x-python",
      "name": "python",
      "nbconvert_exporter": "python",
      "pygments_lexer": "ipython3",
      "version": "3.11.0"
    }
  },
  "nbformat": 4,
  "nbformat_minor": 0
}
